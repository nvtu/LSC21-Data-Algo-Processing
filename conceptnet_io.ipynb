{
 "cells": [
  {
   "cell_type": "code",
   "execution_count": 84,
   "metadata": {},
   "outputs": [],
   "source": [
    "import requests"
   ]
  },
  {
   "cell_type": "code",
   "execution_count": 88,
   "metadata": {},
   "outputs": [],
   "source": [
    "request_url = 'https://api.conceptnet.io/related/c/en/{}?filter=/c/en'\n",
    "term = ['hot_dog', 'dog']\n",
    "WEIGHT_THRESH = 0.8"
   ]
  },
  {
   "cell_type": "code",
   "execution_count": 89,
   "metadata": {},
   "outputs": [],
   "source": [
    "def parse_conceptnet_result(results, thresh = 0.8):\n",
    "    related_terms = []\n",
    "    query_term = results['@id'].replace('/c/en/', '').replace('_', ' ')\n",
    "    for item in results['related']:\n",
    "        term = item['@id'].replace('/c/en/', '').replace('_', ' ')\n",
    "        weight = item['weight']\n",
    "        if weight > thresh and term != query_term:\n",
    "            related_terms.append(term)\n",
    "    return related_terms"
   ]
  },
  {
   "cell_type": "code",
   "execution_count": 90,
   "metadata": {},
   "outputs": [
    {
     "data": {
      "text/plain": [
       "[]"
      ]
     },
     "execution_count": 90,
     "metadata": {},
     "output_type": "execute_result"
    }
   ],
   "source": [
    "results = requests.get(request_url.format(term)).json()\n",
    "parse_conceptnet_result(results)"
   ]
  }
 ],
 "metadata": {
  "interpreter": {
   "hash": "40d3a090f54c6569ab1632332b64b2c03c39dcf918b08424e98f38b5ae0af88f"
  },
  "kernelspec": {
   "display_name": "Python 3.7.4 64-bit ('base': conda)",
   "language": "python",
   "name": "python3"
  },
  "language_info": {
   "codemirror_mode": {
    "name": "ipython",
    "version": 3
   },
   "file_extension": ".py",
   "mimetype": "text/x-python",
   "name": "python",
   "nbconvert_exporter": "python",
   "pygments_lexer": "ipython3",
   "version": "3.7.4"
  },
  "orig_nbformat": 4
 },
 "nbformat": 4,
 "nbformat_minor": 2
}
