{
 "cells": [
  {
   "cell_type": "code",
   "execution_count": 8,
   "metadata": {},
   "outputs": [],
   "source": [
    "import configparser\n",
    "import os\n",
    "from collections import Counter\n",
    "import inflect\n",
    "import json"
   ]
  },
  {
   "cell_type": "code",
   "execution_count": 9,
   "metadata": {},
   "outputs": [],
   "source": [
    "cp = configparser.ConfigParser()\n",
    "cp.read('config.ini')\n",
    "processed_data_path = cp['DATA_PATH']['processed_data_path']\n",
    "output_file_path = os.path.join(processed_data_path, 'lsc2021-metadata.json')\n",
    "p = inflect.engine()"
   ]
  },
  {
   "cell_type": "code",
   "execution_count": 10,
   "metadata": {},
   "outputs": [],
   "source": [
    "# Get all pre-processed data path\n",
    "white_list_id_path = os.path.join(processed_data_path, 'white_list_image_ids.txt')\n",
    "white_list_img_path = os.path.join(processed_data_path, 'white_list_image_paths.txt')\n",
    "place_category_path = os.path.join(processed_data_path, 'combined_place_categories.json')\n",
    "microsoft_tags_path = os.path.join(processed_data_path, 'MicrosoftTags_concepts.json')\n",
    "yolo_concepts_path = os.path.join(processed_data_path, 'ScaledYOLOv4_concepts.json')\n",
    "visual_genome_path = os.path.join(processed_data_path, 'VisualGenomeRes101_concepts.json')\n",
    "ocr_path = os.path.join(processed_data_path, 'OCR_concepts.json')\n",
    "date_time_path = os.path.join(processed_data_path, 'combined_date_time_gps_activity.json')\n",
    "# refined_date_time_gps_path = os.path.join(processed_data_path, 'combined_date_time_gps_refined.json')\n",
    "refined_date_time_gps_path = os.path.join(processed_data_path, 'combined_date_time_gps_final_refined.json')"
   ]
  },
  {
   "cell_type": "code",
   "execution_count": 11,
   "metadata": {},
   "outputs": [],
   "source": [
    "# Load all kinds of data\n",
    "white_list_image_id = [line.rstrip() for line in open(white_list_id_path, 'r').readlines()]\n",
    "white_list_image_path = [line.rstrip() for line in open(white_list_img_path, 'r').readlines()]\n",
    "place_categories = json.load(open(place_category_path, 'r'))\n",
    "microsoft_tags = json.load(open(microsoft_tags_path, 'r'))\n",
    "yolo_concepts = json.load(open(yolo_concepts_path, 'r'))\n",
    "visual_genomes = json.load(open(visual_genome_path, 'r'))\n",
    "ocrs = json.load(open(ocr_path, 'r'))\n",
    "date_times = json.load(open(date_time_path, 'r'))\n",
    "date_time_gps = json.load(open(refined_date_time_gps_path, 'r'))"
   ]
  },
  {
   "cell_type": "code",
   "execution_count": 12,
   "metadata": {},
   "outputs": [],
   "source": [
    "def date_time_gps_reformat(dt_gps):\n",
    "    local_time = dt_gps['local_time'].split('_')[-1]\n",
    "    dt_gps['local_time'] = local_time\n",
    "    dt_gps['day_of_week'] = dt_gps['day_of_week'].lower()\n",
    "    dt_gps['month'] = dt_gps['month'].lower()\n",
    "    dt_gps['location_name'] = dt_gps['location_name'].lower()\n",
    "    dt_gps['location_type'] = dt_gps['location_type'].lower()\n",
    "    if 'location_address' in dt_gps:\n",
    "        dt_gps['location_address'] = [item.lower() for item in dt_gps['location_address']]\n",
    "    return dt_gps"
   ]
  },
  {
   "cell_type": "code",
   "execution_count": 14,
   "metadata": {},
   "outputs": [
    {
     "name": "stdout",
     "output_type": "stream",
     "text": [
      "g\n"
     ]
    }
   ],
   "source": [
    "lsc2021_metadata = []\n",
    "for i, image_id in enumerate(white_list_image_id):\n",
    "    try:\n",
    "        image_path = white_list_image_path[i]\n",
    "        place_category = place_categories[image_id]\n",
    "        microsoft_tag = list(set(microsoft_tags[image_id]))\n",
    "        yolo_concept = yolo_concepts[image_id]\n",
    "        counter_yolo_concept = Counter(yolo_concept)\n",
    "        if 'person' in counter_yolo_concept:\n",
    "            cnt = counter_yolo_concept['person']\n",
    "            if cnt > 1:\n",
    "                cnt_word = p.number_to_words(cnt)\n",
    "                yolo_concept.append(f'{cnt_word} people')\n",
    "        yolo_concept = list(set(yolo_concept))\n",
    "        visual_genome = list(set(visual_genomes[image_id]))\n",
    "        ocr = ocrs[image_id]\n",
    "        dt_gps = date_time_gps_reformat(date_time_gps[image_id])\n",
    "        minute_id = date_times[image_id]['minute_id']\n",
    "        data = {\n",
    "            '_id': image_id,\n",
    "            'minute_id': minute_id,\n",
    "            'image_path': image_path,\n",
    "            **dt_gps,\n",
    "            'place_category': place_category,\n",
    "            'microsoft_tag': microsoft_tag,\n",
    "            'yolo_concept': yolo_concept,\n",
    "            'visual_genome': visual_genome,\n",
    "            'ocr': ocr,\n",
    "        }\n",
    "        lsc2021_metadata.append(data)\n",
    "    except Exception as e: \n",
    "        print(image_id)\n"
   ]
  },
  {
   "cell_type": "code",
   "execution_count": 15,
   "metadata": {},
   "outputs": [],
   "source": [
    "with open(output_file_path, 'w') as f:\n",
    "    json.dump(lsc2021_metadata, f, indent = 4)"
   ]
  }
 ],
 "metadata": {
  "interpreter": {
   "hash": "fd69f43f58546b570e94fd7eba7b65e6bcc7a5bbc4eab0408017d18902915d69"
  },
  "kernelspec": {
   "display_name": "Python 3.7.5 64-bit",
   "language": "python",
   "name": "python3"
  },
  "language_info": {
   "codemirror_mode": {
    "name": "ipython",
    "version": 3
   },
   "file_extension": ".py",
   "mimetype": "text/x-python",
   "name": "python",
   "nbconvert_exporter": "python",
   "pygments_lexer": "ipython3",
   "version": "3.7.4"
  },
  "orig_nbformat": 4
 },
 "nbformat": 4,
 "nbformat_minor": 2
}
